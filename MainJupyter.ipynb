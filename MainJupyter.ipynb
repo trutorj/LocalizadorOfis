{
 "cells": [
  {
   "cell_type": "markdown",
   "metadata": {},
   "source": [
    "# LocalizadorOfis"
   ]
  },
  {
   "cell_type": "code",
   "execution_count": 1,
   "metadata": {},
   "outputs": [],
   "source": [
    "# Imports\n",
    "import sys  \n",
    "import os\n",
    "sys.path.append(os.getcwd() + '/src')\n",
    "from query_functions import contadorPOIs, mostradorPOIs\n",
    "import pandas as pd\n",
    "from pandas import json_normalize\n",
    "import requests\n",
    "import json\n",
    "import folium\n",
    "import re\n",
    "# Connect with the database\n",
    "from pymongo import MongoClient\n",
    "client = MongoClient(\"mongodb://localhost/datamad0320\")\n",
    "db = client.get_database()"
   ]
  },
  {
   "cell_type": "markdown",
   "metadata": {},
   "source": [
    "## Companies in USA with the category *design*"
   ]
  },
  {
   "cell_type": "code",
   "execution_count": 2,
   "metadata": {
    "scrolled": true
   },
   "outputs": [
    {
     "name": "stdout",
     "output_type": "stream",
     "text": [
      "3\n",
      "99designs --> San Francisco\n",
      "Graticle --> Ellensburg\n",
      "Kickstarter --> Brooklyn\n"
     ]
    }
   ],
   "source": [
    "# Create the query\n",
    "query = {\"$and\":[{\"offices.country_code\": \"USA\"}, {\"category_code\": \"design\"}]}\n",
    "# Do the query. Extract name company and where is located.\n",
    "results = (list(db.Crunch.find((query), {\"name\", \"offices.city\", \"offices.country_code\"})))\n",
    "print(len(results))\n",
    "for e in results:\n",
    "    print(e[\"name\"],\"-->\", e[\"offices\"][0][\"city\"])"
   ]
  },
  {
   "cell_type": "markdown",
   "metadata": {},
   "source": [
    "The search will be focused in those cities. To choose one, we are going to see which city has the largest number of companies which have raised at least 1 Million of dollars (as the developers asked for)."
   ]
  },
  {
   "cell_type": "code",
   "execution_count": 3,
   "metadata": {
    "scrolled": true
   },
   "outputs": [
    {
     "name": "stdout",
     "output_type": "stream",
     "text": [
      "San Francisco : 433\n",
      "Ellensburg : 0\n",
      "Brooklyn : 8\n"
     ]
    }
   ],
   "source": [
    "# Limit the search to 3 cities: San Francisco, Ellensburg and Brooklyn\n",
    "# Rank the cities with more companies having raised at least 1 Million dollars\n",
    "# Function to count the number of companies \n",
    "def millionDollar(ciudad):\n",
    "    # Regex\n",
    "    match = re.compile(r'[M]')\n",
    "    # Create the query\n",
    "    query = {\"$and\":[{\"offices.city\": ciudad}, {\"total_money_raised\": match}]}\n",
    "    # Do the query. Extract name company and where is located.\n",
    "    results = (list(db.Crunch.find((query), {\"name\", \"offices.city\", \"offices.country_code\"})))\n",
    "    return (len(results))\n",
    "\n",
    "for ciudad in ['San Francisco', 'Ellensburg', 'Brooklyn']:\n",
    "    print(ciudad,\":\", millionDollar(ciudad))"
   ]
  },
  {
   "cell_type": "markdown",
   "metadata": {},
   "source": [
    "According to this result, San Francisco is the city that we are looking for."
   ]
  },
  {
   "cell_type": "markdown",
   "metadata": {},
   "source": [
    "## Offices close to a design company\n",
    "Now, let's look for office locations close to the *99designs*, the only design company in San Francisco."
   ]
  },
  {
   "cell_type": "code",
   "execution_count": 4,
   "metadata": {},
   "outputs": [
    {
     "data": {
      "text/plain": [
       "[{'_id': ObjectId('5e99bbd2b8b3684df7d5acdc'),\n",
       "  'name': '99designs',\n",
       "  'office': {'type': 'Point', 'coordinates': [144.9868546, -37.8026587]}},\n",
       " {'_id': ObjectId('5e99bbd2b8b3684df7d5acdd'),\n",
       "  'name': '99designs',\n",
       "  'office': {'type': 'Point', 'coordinates': [-122.4005983, 37.7955307]}},\n",
       " {'_id': ObjectId('5e99bbd2b8b3684df7d5acde'),\n",
       "  'name': '99designs',\n",
       "  'office': {'type': 'Point', 'coordinates': [13.4469031, 52.4986199]}}]"
      ]
     },
     "execution_count": 4,
     "metadata": {},
     "output_type": "execute_result"
    }
   ],
   "source": [
    "design_office = list(db.companies_prepared.find({\"name\": \"99designs\"}, {\"name\", \"office\"}))\n",
    "design_office"
   ]
  },
  {
   "cell_type": "markdown",
   "metadata": {},
   "source": [
    " We are interested in the company located in San Francisco, which is the second one. We need its coordinates."
   ]
  },
  {
   "cell_type": "code",
   "execution_count": 5,
   "metadata": {},
   "outputs": [
    {
     "data": {
      "text/plain": [
       "[-122.4005983, 37.7955307]"
      ]
     },
     "execution_count": 5,
     "metadata": {},
     "output_type": "execute_result"
    }
   ],
   "source": [
    "design_coords = design_office[1][\"office\"][\"coordinates\"]\n",
    "design_coords"
   ]
  },
  {
   "cell_type": "markdown",
   "metadata": {},
   "source": [
    "Look for the offices within 500 m of this office."
   ]
  },
  {
   "cell_type": "code",
   "execution_count": 6,
   "metadata": {
    "scrolled": false
   },
   "outputs": [
    {
     "data": {
      "text/plain": [
       "75"
      ]
     },
     "execution_count": 6,
     "metadata": {},
     "output_type": "execute_result"
    }
   ],
   "source": [
    "# Defining the query\n",
    "query = {'office': {'$near': {'$geometry': {'type': 'Point',\n",
    "    'coordinates': design_coords},\n",
    "    '$maxDistance': 500}}}\n",
    "\n",
    "offices_candidates = list(db.companies_prepared.find(query))\n",
    "len(offices_candidates)"
   ]
  },
  {
   "cell_type": "markdown",
   "metadata": {},
   "source": [
    "## Points of interest closed to the desired office\n",
    "### Starbucks\n",
    "Let's look for offices having a Starbucks closer than 100 m. "
   ]
  },
  {
   "cell_type": "code",
   "execution_count": 7,
   "metadata": {},
   "outputs": [],
   "source": [
    "# Run the function for each candidate office and store the number of Starbucks found in a list\n",
    "n_starbucks = [contadorPOIs(offices_candidates[i][\"office\"][\"coordinates\"],100, \"starbucks\") for i in range(len(offices_candidates))]\n",
    "#print(n_starbucks)"
   ]
  },
  {
   "cell_type": "markdown",
   "metadata": {},
   "source": [
    "### Vegan restaurants\n",
    "The CEO is vegan, so nobody wants problems at lunch time. Let's search vegan restautants closer than 200 m."
   ]
  },
  {
   "cell_type": "code",
   "execution_count": 8,
   "metadata": {
    "scrolled": true
   },
   "outputs": [],
   "source": [
    "# Run the function for each candidate office and store the number of vegan restaurants found\n",
    "n_vegan = [contadorPOIs(offices_candidates[i][\"office\"][\"coordinates\"], 150, \"vegan\") for i in range(len(offices_candidates))]\n",
    "#print(n_vegan)   "
   ]
  },
  {
   "cell_type": "markdown",
   "metadata": {},
   "source": [
    "### Night life\n",
    "\n",
    "Let's look for offices having a pub or similar closer than 50 m. It's very important to avoid the dispersion of the people looking for bars."
   ]
  },
  {
   "cell_type": "code",
   "execution_count": 9,
   "metadata": {},
   "outputs": [],
   "source": [
    "# Run the function for each candidate office and store the number of bars/pubs found\n",
    "n_nightlife = [contadorPOIs(offices_candidates[i][\"office\"][\"coordinates\"], 50, \"nightlife\") for i in range(len(offices_candidates))]\n",
    "#print(n_nightlife) "
   ]
  },
  {
   "cell_type": "markdown",
   "metadata": {},
   "source": [
    "### Schools\n",
    "Finally, let's think about in the children (and their parents). Look for the offices within 200 m of the nearest school (preschool, elementary school, middle school and highschool)."
   ]
  },
  {
   "cell_type": "code",
   "execution_count": 10,
   "metadata": {},
   "outputs": [],
   "source": [
    "# Run the function for each candidate office and store the number of bars/pubs found\n",
    "n_schools = [contadorPOIs(offices_candidates[i][\"office\"][\"coordinates\"], 200, \"schools\") for i in range(len(offices_candidates))]\n",
    "#print(n_schools) "
   ]
  },
  {
   "cell_type": "markdown",
   "metadata": {},
   "source": [
    "### Summarizing the results\n",
    "It's time to analyze which office(s) achieve the most of the conditions. First, we're goint to create lists to store the offices and its coordinates, and then, join them in a dataframe with the rest of lists."
   ]
  },
  {
   "cell_type": "code",
   "execution_count": 11,
   "metadata": {},
   "outputs": [
    {
     "data": {
      "text/html": [
       "<div>\n",
       "<style scoped>\n",
       "    .dataframe tbody tr th:only-of-type {\n",
       "        vertical-align: middle;\n",
       "    }\n",
       "\n",
       "    .dataframe tbody tr th {\n",
       "        vertical-align: top;\n",
       "    }\n",
       "\n",
       "    .dataframe thead th {\n",
       "        text-align: right;\n",
       "    }\n",
       "</style>\n",
       "<table border=\"1\" class=\"dataframe\">\n",
       "  <thead>\n",
       "    <tr style=\"text-align: right;\">\n",
       "      <th></th>\n",
       "      <th>Name</th>\n",
       "      <th>N_starbucks</th>\n",
       "      <th>N_vegan</th>\n",
       "      <th>N_nightlife</th>\n",
       "      <th>N_schools</th>\n",
       "      <th>lon</th>\n",
       "      <th>lat</th>\n",
       "      <th>total</th>\n",
       "    </tr>\n",
       "  </thead>\n",
       "  <tbody>\n",
       "    <tr>\n",
       "      <th>53</th>\n",
       "      <td>Loomia</td>\n",
       "      <td>0</td>\n",
       "      <td>1</td>\n",
       "      <td>3</td>\n",
       "      <td>5</td>\n",
       "      <td>-122.404869</td>\n",
       "      <td>37.796396</td>\n",
       "      <td>9</td>\n",
       "    </tr>\n",
       "    <tr>\n",
       "      <th>52</th>\n",
       "      <td>Pulse Entertainment</td>\n",
       "      <td>0</td>\n",
       "      <td>1</td>\n",
       "      <td>3</td>\n",
       "      <td>5</td>\n",
       "      <td>-122.404869</td>\n",
       "      <td>37.796396</td>\n",
       "      <td>9</td>\n",
       "    </tr>\n",
       "    <tr>\n",
       "      <th>9</th>\n",
       "      <td>Netbooks</td>\n",
       "      <td>1</td>\n",
       "      <td>2</td>\n",
       "      <td>3</td>\n",
       "      <td>2</td>\n",
       "      <td>-122.40195</td>\n",
       "      <td>37.79471</td>\n",
       "      <td>8</td>\n",
       "    </tr>\n",
       "    <tr>\n",
       "      <th>13</th>\n",
       "      <td>IBWIRE Inc</td>\n",
       "      <td>1</td>\n",
       "      <td>2</td>\n",
       "      <td>3</td>\n",
       "      <td>2</td>\n",
       "      <td>-122.4030739</td>\n",
       "      <td>37.7944822</td>\n",
       "      <td>8</td>\n",
       "    </tr>\n",
       "    <tr>\n",
       "      <th>28</th>\n",
       "      <td>PopJax</td>\n",
       "      <td>0</td>\n",
       "      <td>1</td>\n",
       "      <td>1</td>\n",
       "      <td>5</td>\n",
       "      <td>-122.403755</td>\n",
       "      <td>37.796216</td>\n",
       "      <td>7</td>\n",
       "    </tr>\n",
       "    <tr>\n",
       "      <th>...</th>\n",
       "      <td>...</td>\n",
       "      <td>...</td>\n",
       "      <td>...</td>\n",
       "      <td>...</td>\n",
       "      <td>...</td>\n",
       "      <td>...</td>\n",
       "      <td>...</td>\n",
       "      <td>...</td>\n",
       "    </tr>\n",
       "    <tr>\n",
       "      <th>14</th>\n",
       "      <td>Zentact</td>\n",
       "      <td>0</td>\n",
       "      <td>0</td>\n",
       "      <td>0</td>\n",
       "      <td>0</td>\n",
       "      <td>-122.397901</td>\n",
       "      <td>37.794891</td>\n",
       "      <td>0</td>\n",
       "    </tr>\n",
       "    <tr>\n",
       "      <th>38</th>\n",
       "      <td>GoodGuide</td>\n",
       "      <td>0</td>\n",
       "      <td>0</td>\n",
       "      <td>0</td>\n",
       "      <td>0</td>\n",
       "      <td>-122.4000032</td>\n",
       "      <td>37.7983181</td>\n",
       "      <td>0</td>\n",
       "    </tr>\n",
       "    <tr>\n",
       "      <th>36</th>\n",
       "      <td>AppNinjas</td>\n",
       "      <td>0</td>\n",
       "      <td>0</td>\n",
       "      <td>0</td>\n",
       "      <td>0</td>\n",
       "      <td>-122.4000032</td>\n",
       "      <td>37.7983181</td>\n",
       "      <td>0</td>\n",
       "    </tr>\n",
       "    <tr>\n",
       "      <th>35</th>\n",
       "      <td>GoodGuide</td>\n",
       "      <td>0</td>\n",
       "      <td>0</td>\n",
       "      <td>0</td>\n",
       "      <td>0</td>\n",
       "      <td>-122.4000032</td>\n",
       "      <td>37.7983181</td>\n",
       "      <td>0</td>\n",
       "    </tr>\n",
       "    <tr>\n",
       "      <th>37</th>\n",
       "      <td>The Vertical Action Group</td>\n",
       "      <td>0</td>\n",
       "      <td>0</td>\n",
       "      <td>0</td>\n",
       "      <td>0</td>\n",
       "      <td>-122.4000032</td>\n",
       "      <td>37.7983181</td>\n",
       "      <td>0</td>\n",
       "    </tr>\n",
       "  </tbody>\n",
       "</table>\n",
       "<p>75 rows × 8 columns</p>\n",
       "</div>"
      ],
      "text/plain": [
       "                         Name N_starbucks N_vegan N_nightlife N_schools  \\\n",
       "53                     Loomia           0       1           3         5   \n",
       "52        Pulse Entertainment           0       1           3         5   \n",
       "9                    Netbooks           1       2           3         2   \n",
       "13                 IBWIRE Inc           1       2           3         2   \n",
       "28                     PopJax           0       1           1         5   \n",
       "..                        ...         ...     ...         ...       ...   \n",
       "14                    Zentact           0       0           0         0   \n",
       "38                  GoodGuide           0       0           0         0   \n",
       "36                  AppNinjas           0       0           0         0   \n",
       "35                  GoodGuide           0       0           0         0   \n",
       "37  The Vertical Action Group           0       0           0         0   \n",
       "\n",
       "             lon         lat total  \n",
       "53   -122.404869   37.796396     9  \n",
       "52   -122.404869   37.796396     9  \n",
       "9     -122.40195    37.79471     8  \n",
       "13  -122.4030739  37.7944822     8  \n",
       "28   -122.403755   37.796216     7  \n",
       "..           ...         ...   ...  \n",
       "14   -122.397901   37.794891     0  \n",
       "38  -122.4000032  37.7983181     0  \n",
       "36  -122.4000032  37.7983181     0  \n",
       "35  -122.4000032  37.7983181     0  \n",
       "37  -122.4000032  37.7983181     0  \n",
       "\n",
       "[75 rows x 8 columns]"
      ]
     },
     "execution_count": 11,
     "metadata": {},
     "output_type": "execute_result"
    }
   ],
   "source": [
    "lista_ofis = [o[\"name\"] for o in offices_candidates]\n",
    "coord_ofis = [o[\"office\"][\"coordinates\"] for o in offices_candidates]\n",
    "\n",
    "# Create a dataframe with the generated lists\n",
    "lista = [lista_ofis, coord_ofis, n_starbucks, n_vegan, n_nightlife, n_schools]\n",
    "df = pd.DataFrame([lista_ofis, coord_ofis, n_starbucks, n_vegan, n_nightlife, n_schools],\n",
    "                  index=['Name', 'Coords', 'N_starbucks', 'N_vegan', 'N_nightlife', 'N_schools']).T\n",
    "\n",
    "# Extract the coordinates\n",
    "df[\"Coords\"] = df[\"Coords\"].astype(str)\n",
    "df[\"Coords\"] = df[\"Coords\"].str.lstrip(\"[\").str.rstrip(\"]\")\n",
    "df[\"lon\"] = df[\"Coords\"].str.extract(r'(-\\d*.\\d*.),')\n",
    "df[\"lat\"] = df[\"Coords\"].str.extract(r'\\s(\\d*.\\d*)')\n",
    "\n",
    "# Sum the numbers of near points of interest for each office\n",
    "df[\"total\"] = df.N_starbucks + df.N_vegan + df.N_nightlife + df.N_schools\n",
    "# Delete the coords column\n",
    "df = df.drop([\"Coords\"], axis=1)\n",
    "# Sort\n",
    "df.sort_values(\"total\", ascending = False)"
   ]
  },
  {
   "cell_type": "markdown",
   "metadata": {},
   "source": [
    "The office locations that meet the most of the conditions are those corresponding to rows **9** and **13**."
   ]
  },
  {
   "cell_type": "markdown",
   "metadata": {},
   "source": [
    "## Mapping the location of selected offices: Office 9 and Office 13\n",
    "Finally, we are going to present the location of the selected offices, besides their nearest interest points: Starbucks, vegan restaurants, pubs&bars and schools."
   ]
  },
  {
   "cell_type": "code",
   "execution_count": 12,
   "metadata": {},
   "outputs": [
    {
     "data": {
      "text/plain": [
       "[[{'_id': ObjectId('5e9d6fc051d0da6dfcca8238'),\n",
       "   'object': {'coordinates': [-122.40268, 37.794613]}}],\n",
       " [{'_id': ObjectId('5e9d6fc051d0da6dfcca8238'),\n",
       "   'object': {'coordinates': [-122.40268, 37.794613]}}]]"
      ]
     },
     "execution_count": 12,
     "metadata": {},
     "output_type": "execute_result"
    }
   ],
   "source": [
    "# Starbucks\n",
    "n_starbucks = [mostradorPOIs(offices_candidates[i][\"office\"][\"coordinates\"],100, \"starbucks\") for i in [9,13]]\n",
    "n_starbucks"
   ]
  },
  {
   "cell_type": "code",
   "execution_count": 13,
   "metadata": {
    "scrolled": false
   },
   "outputs": [
    {
     "data": {
      "text/plain": [
       "[[{'_id': ObjectId('5e9d99b6ec95185608038c09'),\n",
       "   'object': {'coordinates': [-122.4016746709, 37.7948202222]}},\n",
       "  {'_id': ObjectId('5e9d99b6ec95185608038c17'),\n",
       "   'object': {'coordinates': [-122.4015493596, 37.7942818704]}}],\n",
       " [{'_id': ObjectId('5e9d99b6ec95185608038c09'),\n",
       "   'object': {'coordinates': [-122.4016746709, 37.7948202222]}},\n",
       "  {'_id': ObjectId('5e9d99b6ec95185608038c17'),\n",
       "   'object': {'coordinates': [-122.4015493596, 37.7942818704]}}]]"
      ]
     },
     "execution_count": 13,
     "metadata": {},
     "output_type": "execute_result"
    }
   ],
   "source": [
    "# Vegan\n",
    "n_vegan = [mostradorPOIs(offices_candidates[i][\"office\"][\"coordinates\"],150, \"vegan\") for i in [9,13]]\n",
    "n_vegan"
   ]
  },
  {
   "cell_type": "code",
   "execution_count": 14,
   "metadata": {
    "scrolled": true
   },
   "outputs": [
    {
     "data": {
      "text/plain": [
       "[[{'_id': ObjectId('5e9d6d6d96bf9061424e6e82'),\n",
       "   'object': {'coordinates': [-122.4019542632, 37.7947801333]}},\n",
       "  {'_id': ObjectId('5e9d6d7789875968f546ae94'),\n",
       "   'object': {'coordinates': [-122.4016746709, 37.7948202222]}},\n",
       "  {'_id': ObjectId('5e9d6d2a0b4aa1f5a688f945'),\n",
       "   'object': {'coordinates': [-122.4016746709, 37.7948202222]}}],\n",
       " [{'_id': ObjectId('5e9d6d6d96bf9061424e6e4d'),\n",
       "   'object': {'coordinates': [-122.4028219033, 37.794432603]}},\n",
       "  {'_id': ObjectId('5e9d6d6d96bf9061424e6e46'),\n",
       "   'object': {'coordinates': [-122.402808934, 37.794462968]}},\n",
       "  {'_id': ObjectId('5e9d6d6d96bf9061424e6e85'),\n",
       "   'object': {'coordinates': [-122.4029180332, 37.7942852971]}}]]"
      ]
     },
     "execution_count": 14,
     "metadata": {},
     "output_type": "execute_result"
    }
   ],
   "source": [
    "# Nightlife\n",
    "n_nightlife = [mostradorPOIs(offices_candidates[i][\"office\"][\"coordinates\"],50, \"nightlife\") for i in [9,13]]\n",
    "n_nightlife"
   ]
  },
  {
   "cell_type": "code",
   "execution_count": 15,
   "metadata": {},
   "outputs": [
    {
     "data": {
      "text/plain": [
       "[[{'_id': ObjectId('5e9dc525a399dba995a7a4fd'),\n",
       "   'object': {'coordinates': [-122.4040004611, 37.7947517878]}},\n",
       "  {'_id': ObjectId('5e9dc525a399dba995a7a4fc'),\n",
       "   'object': {'coordinates': [-122.4042043521, 37.7947566637]}}],\n",
       " [{'_id': ObjectId('5e9dc525a399dba995a7a4fd'),\n",
       "   'object': {'coordinates': [-122.4040004611, 37.7947517878]}},\n",
       "  {'_id': ObjectId('5e9dc525a399dba995a7a4fc'),\n",
       "   'object': {'coordinates': [-122.4042043521, 37.7947566637]}}]]"
      ]
     },
     "execution_count": 15,
     "metadata": {},
     "output_type": "execute_result"
    }
   ],
   "source": [
    "# Schools\n",
    "n_schools = [mostradorPOIs(offices_candidates[i][\"office\"][\"coordinates\"],200, \"schools\") for i in [9,13]]\n",
    "n_schools"
   ]
  },
  {
   "cell_type": "markdown",
   "metadata": {},
   "source": [
    "Finally, the map"
   ]
  },
  {
   "cell_type": "code",
   "execution_count": 16,
   "metadata": {
    "scrolled": true
   },
   "outputs": [
    {
     "data": {
      "text/html": [
       "<div style=\"width:100%;\"><div style=\"position:relative;width:100%;height:0;padding-bottom:60%;\"><iframe src=\"about:blank\" style=\"position:absolute;width:100%;height:100%;left:0;top:0;border:none !important;\" data-html=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 onload=\"this.contentDocument.open();this.contentDocument.write(atob(this.getAttribute('data-html')));this.contentDocument.close();\" allowfullscreen webkitallowfullscreen mozallowfullscreen></iframe></div></div>"
      ],
      "text/plain": [
       "<folium.folium.Map at 0x7fa1266cc190>"
      ]
     },
     "execution_count": 16,
     "metadata": {},
     "output_type": "execute_result"
    }
   ],
   "source": [
    "basemap = folium.Map(\n",
    "    location=[37.7944822, -122.4030739],\n",
    "    tiles='Stamen Toner',\n",
    "    zoom_start=18)\n",
    "# Markers for offices\n",
    "folium.Marker([df.loc[9,[\"lat\"]], df.loc[9,[\"lon\"]]], popup='Office <b>9</b>').add_to(basemap)\n",
    "folium.Marker([df.loc[13,[\"lat\"]], df.loc[13,[\"lon\"]]], popup='Office <b>13</b>').add_to(basemap)\n",
    "# Marker for Starbucks\n",
    "folium.Marker(((n_starbucks[0][0]['object']['coordinates'][1]), (n_starbucks[0][0]['object']['coordinates'][0])), popup='Starbucks',icon=folium.Icon(color=\"darkgreen\",icon=\"coffee\", prefix='fa')).add_to(basemap)\n",
    "# Markers for vegan restaurants\n",
    "folium.Marker(((n_vegan[0][0]['object']['coordinates'][1]), (n_vegan[0][0]['object']['coordinates'][0])), popup='Vegan restaurant', icon=folium.Icon(color=\"orange\",icon=\"pepper-hot\", prefix='fa')).add_to(basemap)\n",
    "folium.Marker(((n_vegan[0][1]['object']['coordinates'][1]), (n_vegan[0][1]['object']['coordinates'][0])), popup='Vegan restaurant', icon=folium.Icon(color=\"orange\",icon=\"pepper-hot\", prefix='fa')).add_to(basemap)\n",
    "# Markers for night life\n",
    "folium.Marker(((n_nightlife[0][0]['object']['coordinates'][1]), (n_nightlife[0][0]['object']['coordinates'][0])), popup='Night Life',icon=folium.Icon(color=\"red\",icon=\"beer\", prefix='fa')).add_to(basemap)\n",
    "folium.Marker(((n_nightlife[0][1]['object']['coordinates'][1]), (n_nightlife[0][1]['object']['coordinates'][0])), popup='Night Life',icon=folium.Icon(color=\"red\",icon=\"beer\", prefix='fa')).add_to(basemap)\n",
    "folium.Marker(((n_nightlife[0][2]['object']['coordinates'][1]), (n_nightlife[0][2]['object']['coordinates'][0])), popup='Night Life',icon=folium.Icon(color=\"red\",icon=\"beer\", prefix='fa')).add_to(basemap)\n",
    "folium.Marker(((n_nightlife[1][0]['object']['coordinates'][1]), (n_nightlife[1][0]['object']['coordinates'][0])), popup='Night Life',icon=folium.Icon(color=\"red\",icon=\"beer\", prefix='fa')).add_to(basemap)\n",
    "folium.Marker(((n_nightlife[1][1]['object']['coordinates'][1]), (n_nightlife[1][1]['object']['coordinates'][0])), popup='Night Life',icon=folium.Icon(color=\"red\",icon=\"beer\", prefix='fa')).add_to(basemap)\n",
    "folium.Marker(((n_nightlife[1][2]['object']['coordinates'][1]), (n_nightlife[1][2]['object']['coordinates'][0])), popup='Night Life',icon=folium.Icon(color=\"red\",icon=\"beer\", prefix='fa')).add_to(basemap)\n",
    "# Markers for schools\n",
    "folium.Marker(((n_schools[0][0]['object']['coordinates'][1]), (n_schools[0][0]['object']['coordinates'][0])), popup='School',icon=folium.Icon(color=\"darkblue\",icon=\"graduation-cap\", prefix='fa')).add_to(basemap)\n",
    "folium.Marker(((n_schools[0][1]['object']['coordinates'][1]), (n_schools[0][1]['object']['coordinates'][0])), popup='School',icon=folium.Icon(color=\"darkblue\",icon=\"graduation-cap\", prefix='fa')).add_to(basemap)\n",
    "basemap"
   ]
  }
 ],
 "metadata": {
  "kernelspec": {
   "display_name": "Python 3.8.1 64-bit ('ironhack': conda)",
   "language": "python",
   "name": "python38164bitironhackconda30751464bf1f4a49ad9b37bed97d4298"
  },
  "language_info": {
   "codemirror_mode": {
    "name": "ipython",
    "version": 3
   },
   "file_extension": ".py",
   "mimetype": "text/x-python",
   "name": "python",
   "nbconvert_exporter": "python",
   "pygments_lexer": "ipython3",
   "version": "3.8.1"
  }
 },
 "nbformat": 4,
 "nbformat_minor": 4
}
