{
 "cells": [
  {
   "cell_type": "markdown",
   "metadata": {},
   "source": [
    "# LocalizadorOfis"
   ]
  },
  {
   "cell_type": "code",
   "execution_count": 1,
   "metadata": {},
   "outputs": [],
   "source": [
    "# Imports\n",
    "import sys  \n",
    "import os\n",
    "sys.path.insert(0, os.path.abspath('../src/'))\n",
    "from query_functions import contadorPOIs, mostradorPOIs\n",
    "import pandas as pd\n",
    "from pandas import json_normalize\n",
    "import requests\n",
    "import json\n",
    "import folium\n",
    "import re\n",
    "# Connect with the database\n",
    "from pymongo import MongoClient\n",
    "client = MongoClient(\"mongodb://localhost/datamad0320\")\n",
    "db = client.get_database()"
   ]
  },
  {
   "cell_type": "markdown",
   "metadata": {},
   "source": [
    "## Companies in USA with the category *design*"
   ]
  },
  {
   "cell_type": "code",
   "execution_count": 2,
   "metadata": {
    "scrolled": true
   },
   "outputs": [
    {
     "name": "stdout",
     "output_type": "stream",
     "text": [
      "3\n",
      "99designs --> San Francisco\n",
      "Graticle --> Ellensburg\n",
      "Kickstarter --> Brooklyn\n"
     ]
    }
   ],
   "source": [
    "# Create the query\n",
    "query = {\"$and\":[{\"offices.country_code\": \"USA\"}, {\"category_code\": \"design\"}]}\n",
    "# Do the query. Extract name company and where is located.\n",
    "results = (list(db.Crunch.find((query), {\"name\", \"offices.city\", \"offices.country_code\"})))\n",
    "print(len(results))\n",
    "for e in results:\n",
    "    print(e[\"name\"],\"-->\", e[\"offices\"][0][\"city\"])"
   ]
  },
  {
   "cell_type": "markdown",
   "metadata": {},
   "source": [
    "The search will be focused in those cities. To choose one, we are going to see which city has the largest number of companies which have raised at least 1 Million of dollars (as the developers asked for)."
   ]
  },
  {
   "cell_type": "code",
   "execution_count": 3,
   "metadata": {
    "scrolled": true
   },
   "outputs": [
    {
     "name": "stdout",
     "output_type": "stream",
     "text": [
      "San Francisco : 433\n",
      "Ellensburg : 0\n",
      "Brooklyn : 8\n"
     ]
    }
   ],
   "source": [
    "# Limit the search to 3 cities: San Francisco, Ellensburg and Brooklyn\n",
    "# Rank the cities with more companies having raised at least 1 Million dollars\n",
    "# Function to count the number of companies \n",
    "def millionDollar(ciudad):\n",
    "    # Regex\n",
    "    match = re.compile(r'[M]')\n",
    "    # Create the query\n",
    "    query = {\"$and\":[{\"offices.city\": ciudad}, {\"total_money_raised\": match}]}\n",
    "    # Do the query. Extract name company and where is located.\n",
    "    results = (list(db.Crunch.find((query), {\"name\", \"offices.city\", \"offices.country_code\"})))\n",
    "    return (len(results))\n",
    "\n",
    "for ciudad in ['San Francisco', 'Ellensburg', 'Brooklyn']:\n",
    "    print(ciudad,\":\", millionDollar(ciudad))"
   ]
  },
  {
   "cell_type": "markdown",
   "metadata": {},
   "source": [
    "According to this result, San Francisco is the city that we are looking for."
   ]
  },
  {
   "cell_type": "markdown",
   "metadata": {},
   "source": [
    "## Offices close to a design company\n",
    "Now, let's look for office locations close to the *99designs*, the only design company in San Francisco."
   ]
  },
  {
   "cell_type": "code",
   "execution_count": 4,
   "metadata": {},
   "outputs": [
    {
     "data": {
      "text/plain": [
       "[{'_id': ObjectId('5e99bbd2b8b3684df7d5acdc'),\n",
       "  'name': '99designs',\n",
       "  'office': {'type': 'Point', 'coordinates': [144.9868546, -37.8026587]}},\n",
       " {'_id': ObjectId('5e99bbd2b8b3684df7d5acdd'),\n",
       "  'name': '99designs',\n",
       "  'office': {'type': 'Point', 'coordinates': [-122.4005983, 37.7955307]}},\n",
       " {'_id': ObjectId('5e99bbd2b8b3684df7d5acde'),\n",
       "  'name': '99designs',\n",
       "  'office': {'type': 'Point', 'coordinates': [13.4469031, 52.4986199]}}]"
      ]
     },
     "execution_count": 4,
     "metadata": {},
     "output_type": "execute_result"
    }
   ],
   "source": [
    "design_office = list(db.companies_prepared.find({\"name\": \"99designs\"}, {\"name\", \"office\"}))\n",
    "design_office"
   ]
  },
  {
   "cell_type": "markdown",
   "metadata": {},
   "source": [
    " We are interested in the company located in San Francisco, which is the second one. We need its coordinates."
   ]
  },
  {
   "cell_type": "code",
   "execution_count": 5,
   "metadata": {},
   "outputs": [
    {
     "data": {
      "text/plain": [
       "[-122.4005983, 37.7955307]"
      ]
     },
     "execution_count": 5,
     "metadata": {},
     "output_type": "execute_result"
    }
   ],
   "source": [
    "design_coords = design_office[1][\"office\"][\"coordinates\"]\n",
    "design_coords"
   ]
  },
  {
   "cell_type": "markdown",
   "metadata": {},
   "source": [
    "Look for the offices within 500 m of this office."
   ]
  },
  {
   "cell_type": "code",
   "execution_count": 6,
   "metadata": {
    "scrolled": false
   },
   "outputs": [
    {
     "data": {
      "text/plain": [
       "75"
      ]
     },
     "execution_count": 6,
     "metadata": {},
     "output_type": "execute_result"
    }
   ],
   "source": [
    "# Defining the query\n",
    "query = {'office': {'$near': {'$geometry': {'type': 'Point',\n",
    "    'coordinates': design_coords},\n",
    "    '$maxDistance': 500}}}\n",
    "\n",
    "offices_candidates = list(db.companies_prepared.find(query))\n",
    "len(offices_candidates)"
   ]
  },
  {
   "cell_type": "markdown",
   "metadata": {},
   "source": [
    "## Points of interest closed to the desired office\n",
    "### Starbucks\n",
    "Let's look for offices having a Starbucks closer than 100 m. "
   ]
  },
  {
   "cell_type": "code",
   "execution_count": 7,
   "metadata": {},
   "outputs": [],
   "source": [
    "# Run the function for each candidate office and store the number of Starbucks found in a list\n",
    "n_starbucks = [contadorPOIs(offices_candidates[i][\"office\"][\"coordinates\"],100, \"starbucks\") for i in range(len(offices_candidates))]\n",
    "#print(n_starbucks)"
   ]
  },
  {
   "cell_type": "markdown",
   "metadata": {},
   "source": [
    "### Vegan restaurants\n",
    "The CEO is vegan, so nobody wants problems at lunch time. Let's search vegan restautants closer than 200 m."
   ]
  },
  {
   "cell_type": "code",
   "execution_count": 8,
   "metadata": {
    "scrolled": true
   },
   "outputs": [],
   "source": [
    "# Run the function for each candidate office and store the number of vegan restaurants found\n",
    "n_vegan = [contadorPOIs(offices_candidates[i][\"office\"][\"coordinates\"], 150, \"vegan\") for i in range(len(offices_candidates))]\n",
    "#print(n_vegan)   "
   ]
  },
  {
   "cell_type": "markdown",
   "metadata": {},
   "source": [
    "### Night life\n",
    "\n",
    "Let's look for offices having a pub or similar closer than 50 m. It's very important to avoid the dispersion of the people looking for bars."
   ]
  },
  {
   "cell_type": "code",
   "execution_count": 9,
   "metadata": {},
   "outputs": [],
   "source": [
    "# Run the function for each candidate office and store the number of bars/pubs found\n",
    "n_nightlife = [contadorPOIs(offices_candidates[i][\"office\"][\"coordinates\"], 50, \"nightlife\") for i in range(len(offices_candidates))]\n",
    "#print(n_nightlife) "
   ]
  },
  {
   "cell_type": "markdown",
   "metadata": {},
   "source": [
    "### Schools\n",
    "Finally, let's think about in the children (and their parents). Look for the offices within 200 m of the nearest school (preschool, elementary school, middle school and highschool)."
   ]
  },
  {
   "cell_type": "code",
   "execution_count": 10,
   "metadata": {},
   "outputs": [],
   "source": [
    "# Run the function for each candidate office and store the number of bars/pubs found\n",
    "n_schools = [contadorPOIs(offices_candidates[i][\"office\"][\"coordinates\"], 200, \"schools\") for i in range(len(offices_candidates))]\n",
    "#print(n_schools) "
   ]
  },
  {
   "cell_type": "markdown",
   "metadata": {},
   "source": [
    "### Summarizing the results\n",
    "It's time to analyze which office(s) achieve the most of the conditions. First, we're goint to create lists to store the offices and its coordinates, and then, join them in a dataframe with the rest of lists."
   ]
  },
  {
   "cell_type": "code",
   "execution_count": 11,
   "metadata": {},
   "outputs": [
    {
     "data": {
      "text/html": [
       "<div>\n",
       "<style scoped>\n",
       "    .dataframe tbody tr th:only-of-type {\n",
       "        vertical-align: middle;\n",
       "    }\n",
       "\n",
       "    .dataframe tbody tr th {\n",
       "        vertical-align: top;\n",
       "    }\n",
       "\n",
       "    .dataframe thead th {\n",
       "        text-align: right;\n",
       "    }\n",
       "</style>\n",
       "<table border=\"1\" class=\"dataframe\">\n",
       "  <thead>\n",
       "    <tr style=\"text-align: right;\">\n",
       "      <th></th>\n",
       "      <th>Name</th>\n",
       "      <th>N_starbucks</th>\n",
       "      <th>N_vegan</th>\n",
       "      <th>N_nightlife</th>\n",
       "      <th>N_schools</th>\n",
       "      <th>lon</th>\n",
       "      <th>lat</th>\n",
       "      <th>total</th>\n",
       "    </tr>\n",
       "  </thead>\n",
       "  <tbody>\n",
       "    <tr>\n",
       "      <th>53</th>\n",
       "      <td>Loomia</td>\n",
       "      <td>0</td>\n",
       "      <td>1</td>\n",
       "      <td>3</td>\n",
       "      <td>5</td>\n",
       "      <td>-122.404869</td>\n",
       "      <td>37.796396</td>\n",
       "      <td>9</td>\n",
       "    </tr>\n",
       "    <tr>\n",
       "      <th>52</th>\n",
       "      <td>Pulse Entertainment</td>\n",
       "      <td>0</td>\n",
       "      <td>1</td>\n",
       "      <td>3</td>\n",
       "      <td>5</td>\n",
       "      <td>-122.404869</td>\n",
       "      <td>37.796396</td>\n",
       "      <td>9</td>\n",
       "    </tr>\n",
       "    <tr>\n",
       "      <th>9</th>\n",
       "      <td>Netbooks</td>\n",
       "      <td>1</td>\n",
       "      <td>2</td>\n",
       "      <td>3</td>\n",
       "      <td>2</td>\n",
       "      <td>-122.40195</td>\n",
       "      <td>37.79471</td>\n",
       "      <td>8</td>\n",
       "    </tr>\n",
       "    <tr>\n",
       "      <th>13</th>\n",
       "      <td>IBWIRE Inc</td>\n",
       "      <td>1</td>\n",
       "      <td>2</td>\n",
       "      <td>3</td>\n",
       "      <td>2</td>\n",
       "      <td>-122.4030739</td>\n",
       "      <td>37.7944822</td>\n",
       "      <td>8</td>\n",
       "    </tr>\n",
       "    <tr>\n",
       "      <th>28</th>\n",
       "      <td>PopJax</td>\n",
       "      <td>0</td>\n",
       "      <td>1</td>\n",
       "      <td>1</td>\n",
       "      <td>5</td>\n",
       "      <td>-122.403755</td>\n",
       "      <td>37.796216</td>\n",
       "      <td>7</td>\n",
       "    </tr>\n",
       "    <tr>\n",
       "      <th>...</th>\n",
       "      <td>...</td>\n",
       "      <td>...</td>\n",
       "      <td>...</td>\n",
       "      <td>...</td>\n",
       "      <td>...</td>\n",
       "      <td>...</td>\n",
       "      <td>...</td>\n",
       "      <td>...</td>\n",
       "    </tr>\n",
       "    <tr>\n",
       "      <th>14</th>\n",
       "      <td>Zentact</td>\n",
       "      <td>0</td>\n",
       "      <td>0</td>\n",
       "      <td>0</td>\n",
       "      <td>0</td>\n",
       "      <td>-122.397901</td>\n",
       "      <td>37.794891</td>\n",
       "      <td>0</td>\n",
       "    </tr>\n",
       "    <tr>\n",
       "      <th>38</th>\n",
       "      <td>GoodGuide</td>\n",
       "      <td>0</td>\n",
       "      <td>0</td>\n",
       "      <td>0</td>\n",
       "      <td>0</td>\n",
       "      <td>-122.4000032</td>\n",
       "      <td>37.7983181</td>\n",
       "      <td>0</td>\n",
       "    </tr>\n",
       "    <tr>\n",
       "      <th>36</th>\n",
       "      <td>AppNinjas</td>\n",
       "      <td>0</td>\n",
       "      <td>0</td>\n",
       "      <td>0</td>\n",
       "      <td>0</td>\n",
       "      <td>-122.4000032</td>\n",
       "      <td>37.7983181</td>\n",
       "      <td>0</td>\n",
       "    </tr>\n",
       "    <tr>\n",
       "      <th>35</th>\n",
       "      <td>GoodGuide</td>\n",
       "      <td>0</td>\n",
       "      <td>0</td>\n",
       "      <td>0</td>\n",
       "      <td>0</td>\n",
       "      <td>-122.4000032</td>\n",
       "      <td>37.7983181</td>\n",
       "      <td>0</td>\n",
       "    </tr>\n",
       "    <tr>\n",
       "      <th>37</th>\n",
       "      <td>The Vertical Action Group</td>\n",
       "      <td>0</td>\n",
       "      <td>0</td>\n",
       "      <td>0</td>\n",
       "      <td>0</td>\n",
       "      <td>-122.4000032</td>\n",
       "      <td>37.7983181</td>\n",
       "      <td>0</td>\n",
       "    </tr>\n",
       "  </tbody>\n",
       "</table>\n",
       "<p>75 rows × 8 columns</p>\n",
       "</div>"
      ],
      "text/plain": [
       "                         Name N_starbucks N_vegan N_nightlife N_schools  \\\n",
       "53                     Loomia           0       1           3         5   \n",
       "52        Pulse Entertainment           0       1           3         5   \n",
       "9                    Netbooks           1       2           3         2   \n",
       "13                 IBWIRE Inc           1       2           3         2   \n",
       "28                     PopJax           0       1           1         5   \n",
       "..                        ...         ...     ...         ...       ...   \n",
       "14                    Zentact           0       0           0         0   \n",
       "38                  GoodGuide           0       0           0         0   \n",
       "36                  AppNinjas           0       0           0         0   \n",
       "35                  GoodGuide           0       0           0         0   \n",
       "37  The Vertical Action Group           0       0           0         0   \n",
       "\n",
       "             lon         lat total  \n",
       "53   -122.404869   37.796396     9  \n",
       "52   -122.404869   37.796396     9  \n",
       "9     -122.40195    37.79471     8  \n",
       "13  -122.4030739  37.7944822     8  \n",
       "28   -122.403755   37.796216     7  \n",
       "..           ...         ...   ...  \n",
       "14   -122.397901   37.794891     0  \n",
       "38  -122.4000032  37.7983181     0  \n",
       "36  -122.4000032  37.7983181     0  \n",
       "35  -122.4000032  37.7983181     0  \n",
       "37  -122.4000032  37.7983181     0  \n",
       "\n",
       "[75 rows x 8 columns]"
      ]
     },
     "execution_count": 11,
     "metadata": {},
     "output_type": "execute_result"
    }
   ],
   "source": [
    "lista_ofis = [o[\"name\"] for o in offices_candidates]\n",
    "coord_ofis = [o[\"office\"][\"coordinates\"] for o in offices_candidates]\n",
    "\n",
    "# Create a dataframe with the generated lists\n",
    "lista = [lista_ofis, coord_ofis, n_starbucks, n_vegan, n_nightlife, n_schools]\n",
    "df = pd.DataFrame([lista_ofis, coord_ofis, n_starbucks, n_vegan, n_nightlife, n_schools],\n",
    "                  index=['Name', 'Coords', 'N_starbucks', 'N_vegan', 'N_nightlife', 'N_schools']).T\n",
    "\n",
    "# Extract the coordinates\n",
    "df[\"Coords\"] = df[\"Coords\"].astype(str)\n",
    "df[\"Coords\"] = df[\"Coords\"].str.lstrip(\"[\").str.rstrip(\"]\")\n",
    "df[\"lon\"] = df[\"Coords\"].str.extract(r'(-\\d*.\\d*.),')\n",
    "df[\"lat\"] = df[\"Coords\"].str.extract(r'\\s(\\d*.\\d*)')\n",
    "\n",
    "# Sum the numbers of near points of interest for each office\n",
    "df[\"total\"] = df.N_starbucks + df.N_vegan + df.N_nightlife + df.N_schools\n",
    "# Delete the coords column\n",
    "df = df.drop([\"Coords\"], axis=1)\n",
    "# Sort\n",
    "df.sort_values(\"total\", ascending = False)"
   ]
  },
  {
   "cell_type": "markdown",
   "metadata": {},
   "source": [
    "The office locations that meet the most of the conditions are those corresponding to rows **9** and **13**."
   ]
  },
  {
   "cell_type": "markdown",
   "metadata": {},
   "source": [
    "## Mapping the location of selected offices: Office 9 and Office 13\n",
    "Finally, we are going to present the location of the selected offices, besides their nearest interest points: Starbucks, vegan restaurants, pubs&bars and schools."
   ]
  },
  {
   "cell_type": "code",
   "execution_count": 93,
   "metadata": {},
   "outputs": [
    {
     "data": {
      "text/plain": [
       "[[{'_id': ObjectId('5e9d6fc051d0da6dfcca8238'),\n",
       "   'object': {'coordinates': [-122.40268, 37.794613]}}],\n",
       " [{'_id': ObjectId('5e9d6fc051d0da6dfcca8238'),\n",
       "   'object': {'coordinates': [-122.40268, 37.794613]}}]]"
      ]
     },
     "execution_count": 93,
     "metadata": {},
     "output_type": "execute_result"
    }
   ],
   "source": [
    "# Starbucks\n",
    "n_starbucks = [mostradorPOIs(offices_candidates[i][\"office\"][\"coordinates\"],100, \"starbucks\") for i in [9,13]]\n",
    "n_starbucks"
   ]
  },
  {
   "cell_type": "code",
   "execution_count": 43,
   "metadata": {
    "scrolled": false
   },
   "outputs": [
    {
     "data": {
      "text/plain": [
       "[[{'_id': ObjectId('5e9d99b6ec95185608038c09'),\n",
       "   'object': {'coordinates': [-122.4016746709, 37.7948202222]}},\n",
       "  {'_id': ObjectId('5e9d99b6ec95185608038c17'),\n",
       "   'object': {'coordinates': [-122.4015493596, 37.7942818704]}}],\n",
       " [{'_id': ObjectId('5e9d99b6ec95185608038c09'),\n",
       "   'object': {'coordinates': [-122.4016746709, 37.7948202222]}},\n",
       "  {'_id': ObjectId('5e9d99b6ec95185608038c17'),\n",
       "   'object': {'coordinates': [-122.4015493596, 37.7942818704]}}]]"
      ]
     },
     "execution_count": 43,
     "metadata": {},
     "output_type": "execute_result"
    }
   ],
   "source": [
    "# Vegan\n",
    "n_vegan = [mostradorPOIs(offices_candidates[i][\"office\"][\"coordinates\"],150, \"vegan\") for i in [9,13]]\n",
    "n_vegan"
   ]
  },
  {
   "cell_type": "code",
   "execution_count": 57,
   "metadata": {
    "scrolled": true
   },
   "outputs": [
    {
     "data": {
      "text/plain": [
       "[[{'_id': ObjectId('5e9d6d6d96bf9061424e6e82'),\n",
       "   'object': {'coordinates': [-122.4019542632, 37.7947801333]}},\n",
       "  {'_id': ObjectId('5e9d6d7789875968f546ae94'),\n",
       "   'object': {'coordinates': [-122.4016746709, 37.7948202222]}},\n",
       "  {'_id': ObjectId('5e9d6d2a0b4aa1f5a688f945'),\n",
       "   'object': {'coordinates': [-122.4016746709, 37.7948202222]}}],\n",
       " [{'_id': ObjectId('5e9d6d6d96bf9061424e6e4d'),\n",
       "   'object': {'coordinates': [-122.4028219033, 37.794432603]}},\n",
       "  {'_id': ObjectId('5e9d6d6d96bf9061424e6e46'),\n",
       "   'object': {'coordinates': [-122.402808934, 37.794462968]}},\n",
       "  {'_id': ObjectId('5e9d6d6d96bf9061424e6e85'),\n",
       "   'object': {'coordinates': [-122.4029180332, 37.7942852971]}}]]"
      ]
     },
     "execution_count": 57,
     "metadata": {},
     "output_type": "execute_result"
    }
   ],
   "source": [
    "# Nightlife\n",
    "n_nightlife = [mostradorPOIs(offices_candidates[i][\"office\"][\"coordinates\"],50, \"nightlife\") for i in [9,13]]\n",
    "n_nightlife"
   ]
  },
  {
   "cell_type": "code",
   "execution_count": 83,
   "metadata": {},
   "outputs": [
    {
     "data": {
      "text/plain": [
       "[[{'_id': ObjectId('5e9dc525a399dba995a7a4fd'),\n",
       "   'object': {'coordinates': [-122.4040004611, 37.7947517878]}},\n",
       "  {'_id': ObjectId('5e9dc525a399dba995a7a4fc'),\n",
       "   'object': {'coordinates': [-122.4042043521, 37.7947566637]}}],\n",
       " [{'_id': ObjectId('5e9dc525a399dba995a7a4fd'),\n",
       "   'object': {'coordinates': [-122.4040004611, 37.7947517878]}},\n",
       "  {'_id': ObjectId('5e9dc525a399dba995a7a4fc'),\n",
       "   'object': {'coordinates': [-122.4042043521, 37.7947566637]}}]]"
      ]
     },
     "execution_count": 83,
     "metadata": {},
     "output_type": "execute_result"
    }
   ],
   "source": [
    "# Schools\n",
    "n_schools = [mostradorPOIs(offices_candidates[i][\"office\"][\"coordinates\"],200, \"schools\") for i in [9,13]]\n",
    "n_schools"
   ]
  },
  {
   "cell_type": "markdown",
   "metadata": {},
   "source": [
    "Finally, the map"
   ]
  },
  {
   "cell_type": "code",
   "execution_count": 95,
   "metadata": {
    "scrolled": true
   },
   "outputs": [
    {
     "data": {
      "text/html": [
       "<div style=\"width:100%;\"><div style=\"position:relative;width:100%;height:0;padding-bottom:60%;\"><iframe src=\"about:blank\" style=\"position:absolute;width:100%;height:100%;left:0;top:0;border:none !important;\" data-html=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 onload=\"this.contentDocument.open();this.contentDocument.write(atob(this.getAttribute('data-html')));this.contentDocument.close();\" allowfullscreen webkitallowfullscreen mozallowfullscreen></iframe></div></div>"
      ],
      "text/plain": [
       "<folium.folium.Map at 0x7f1bee408160>"
      ]
     },
     "execution_count": 95,
     "metadata": {},
     "output_type": "execute_result"
    }
   ],
   "source": [
    "basemap = folium.Map(\n",
    "    location=[37.7944822, -122.4030739],\n",
    "    tiles='Stamen Toner',\n",
    "    zoom_start=18)\n",
    "# Markers for offices\n",
    "folium.Marker([df.loc[9,[\"lat\"]], df.loc[9,[\"lon\"]]], popup='Office <b>9</b>').add_to(basemap)\n",
    "folium.Marker([df.loc[13,[\"lat\"]], df.loc[13,[\"lon\"]]], popup='Office <b>13</b>').add_to(basemap)\n",
    "# Marker for Starbucks\n",
    "folium.Marker(((n_starbucks[0][0]['object']['coordinates'][1]), (n_starbucks[0][0]['object']['coordinates'][0])), popup='Starbucks',icon=folium.Icon(color=\"darkgreen\",icon=\"coffee\", prefix='fa')).add_to(basemap)\n",
    "# Markers for vegan restaurants\n",
    "folium.Marker(((n_vegan[0][0]['object']['coordinates'][1]), (n_vegan[0][0]['object']['coordinates'][0])), popup='Vegan restaurant', icon=folium.Icon(color=\"orange\",icon=\"pepper-hot\", prefix='fa')).add_to(basemap)\n",
    "folium.Marker(((n_vegan[0][1]['object']['coordinates'][1]), (n_vegan[0][1]['object']['coordinates'][0])), popup='Vegan restaurant', icon=folium.Icon(color=\"orange\",icon=\"pepper-hot\", prefix='fa')).add_to(basemap)\n",
    "# Markers for night life\n",
    "folium.Marker(((n_nightlife[0][0]['object']['coordinates'][1]), (n_nightlife[0][0]['object']['coordinates'][0])), popup='Night Life',icon=folium.Icon(color=\"red\",icon=\"beer\", prefix='fa')).add_to(basemap)\n",
    "folium.Marker(((n_nightlife[0][1]['object']['coordinates'][1]), (n_nightlife[0][1]['object']['coordinates'][0])), popup='Night Life',icon=folium.Icon(color=\"red\",icon=\"beer\", prefix='fa')).add_to(basemap)\n",
    "folium.Marker(((n_nightlife[0][2]['object']['coordinates'][1]), (n_nightlife[0][2]['object']['coordinates'][0])), popup='Night Life',icon=folium.Icon(color=\"red\",icon=\"beer\", prefix='fa')).add_to(basemap)\n",
    "folium.Marker(((n_nightlife[1][0]['object']['coordinates'][1]), (n_nightlife[1][0]['object']['coordinates'][0])), popup='Night Life',icon=folium.Icon(color=\"red\",icon=\"beer\", prefix='fa')).add_to(basemap)\n",
    "folium.Marker(((n_nightlife[1][1]['object']['coordinates'][1]), (n_nightlife[1][1]['object']['coordinates'][0])), popup='Night Life',icon=folium.Icon(color=\"red\",icon=\"beer\", prefix='fa')).add_to(basemap)\n",
    "folium.Marker(((n_nightlife[1][2]['object']['coordinates'][1]), (n_nightlife[1][2]['object']['coordinates'][0])), popup='Night Life',icon=folium.Icon(color=\"red\",icon=\"beer\", prefix='fa')).add_to(basemap)\n",
    "# Markers for schools\n",
    "folium.Marker(((n_schools[0][0]['object']['coordinates'][1]), (n_schools[0][0]['object']['coordinates'][0])), popup='School',icon=folium.Icon(color=\"darkblue\",icon=\"graduation-cap\", prefix='fa')).add_to(basemap)\n",
    "folium.Marker(((n_schools[0][1]['object']['coordinates'][1]), (n_schools[0][1]['object']['coordinates'][0])), popup='School',icon=folium.Icon(color=\"darkblue\",icon=\"graduation-cap\", prefix='fa')).add_to(basemap)\n",
    "basemap"
   ]
  }
 ],
 "metadata": {
  "kernelspec": {
   "display_name": "Python 3.8.1 64-bit ('ironhack': conda)",
   "language": "python",
   "name": "python38164bitironhackconda30751464bf1f4a49ad9b37bed97d4298"
  },
  "language_info": {
   "codemirror_mode": {
    "name": "ipython",
    "version": 3
   },
   "file_extension": ".py",
   "mimetype": "text/x-python",
   "name": "python",
   "nbconvert_exporter": "python",
   "pygments_lexer": "ipython3",
   "version": "3.8.1"
  }
 },
 "nbformat": 4,
 "nbformat_minor": 4
}
